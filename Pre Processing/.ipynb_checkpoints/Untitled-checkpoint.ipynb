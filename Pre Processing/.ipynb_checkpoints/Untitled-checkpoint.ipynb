{
 "cells": [
  {
   "cell_type": "code",
   "execution_count": 40,
   "metadata": {},
   "outputs": [],
   "source": [
    "list_sentences = ['This is sentence number: one', 'This is sentences number 2.']"
   ]
  },
  {
   "cell_type": "code",
   "execution_count": 3,
   "metadata": {},
   "outputs": [],
   "source": [
    "import re, string, timeit"
   ]
  },
  {
   "cell_type": "code",
   "execution_count": 14,
   "metadata": {},
   "outputs": [],
   "source": [
    "punctuation = {'!', '\"','#', '$','%','&',\"'\",'(',')','*','+',',','-','.','/',':',';','<','=','>','?','@','[','\\\\',']','^','_','`','{','|','}','~'}"
   ]
  },
  {
   "cell_type": "code",
   "execution_count": 30,
   "metadata": {},
   "outputs": [],
   "source": [
    "def remove_punctuation(text):\n",
    "    punctuation = {'!', '\"','#', '$','%','&',\"'\",'(',')','*','+',',','-','.','/',':',';','<','=','>','?','@','[','\\\\',']','^','_','`','{','|','}','~'}    \n",
    "    text = ''.join(i for i in text if i not in punctuation)\n",
    "    return(text)"
   ]
  },
  {
   "cell_type": "code",
   "execution_count": 27,
   "metadata": {},
   "outputs": [
    {
     "data": {
      "text/plain": [
       "['This is senTence number one', 'This is sentence number 2']"
      ]
     },
     "execution_count": 27,
     "metadata": {},
     "output_type": "execute_result"
    }
   ],
   "source": [
    "remove_punctuation(list_sentences)"
   ]
  },
  {
   "cell_type": "code",
   "execution_count": 33,
   "metadata": {},
   "outputs": [],
   "source": [
    "def text_lowercase(list_sentences):\n",
    "    lower_case = []\n",
    "    for sent in list_sentences:\n",
    "        lower_case.append(sent.lower())\n",
    "    return(lower_case)"
   ]
  },
  {
   "cell_type": "code",
   "execution_count": 34,
   "metadata": {},
   "outputs": [
    {
     "data": {
      "text/plain": [
       "['this is sentence number: one', 'this is sentence number 2.']"
      ]
     },
     "execution_count": 34,
     "metadata": {},
     "output_type": "execute_result"
    }
   ],
   "source": [
    "text_lowercase(list_sentences)"
   ]
  },
  {
   "cell_type": "code",
   "execution_count": 53,
   "metadata": {},
   "outputs": [],
   "source": [
    "from nltk.stem import PorterStemmer \n",
    "from nltk.tokenize import word_tokenize "
   ]
  },
  {
   "cell_type": "code",
   "execution_count": 54,
   "metadata": {},
   "outputs": [],
   "source": [
    "from nltk.tokenize import sent_tokenize"
   ]
  },
  {
   "cell_type": "code",
   "execution_count": 42,
   "metadata": {},
   "outputs": [],
   "source": [
    "ps = PorterStemmer() "
   ]
  },
  {
   "cell_type": "code",
   "execution_count": 43,
   "metadata": {},
   "outputs": [],
   "source": [
    "sentence = \"Programers program with programing languages\""
   ]
  },
  {
   "cell_type": "code",
   "execution_count": 45,
   "metadata": {},
   "outputs": [],
   "source": [
    "words = word_tokenize(sentence) "
   ]
  },
  {
   "cell_type": "code",
   "execution_count": 46,
   "metadata": {},
   "outputs": [
    {
     "name": "stdout",
     "output_type": "stream",
     "text": [
      "Programers  :  program\n",
      "program  :  program\n",
      "with  :  with\n",
      "programing  :  program\n",
      "languages  :  languag\n"
     ]
    }
   ],
   "source": [
    "for w in words: \n",
    "    print(w, \" : \", ps.stem(w)) "
   ]
  },
  {
   "cell_type": "code",
   "execution_count": 41,
   "metadata": {},
   "outputs": [
    {
     "name": "stdout",
     "output_type": "stream",
     "text": [
      "This is sentence number: one : this is sentence number: on\n",
      "This is sentences number 2. : this is sentences number 2.\n"
     ]
    }
   ],
   "source": [
    "for w in list_sentences:\n",
    "    print(w, ':', ps.stem(w))"
   ]
  },
  {
   "cell_type": "code",
   "execution_count": 50,
   "metadata": {},
   "outputs": [],
   "source": [
    "for sent in list_sentences:\n",
    "    new_list = []\n",
    "    new_list.append(word_tokenize(sent))"
   ]
  },
  {
   "cell_type": "code",
   "execution_count": 57,
   "metadata": {},
   "outputs": [],
   "source": [
    "tokens_all = []\n",
    "for sent in list_sentences:\n",
    "    tokens_all.append(word_tokenize(sent))"
   ]
  },
  {
   "cell_type": "code",
   "execution_count": 59,
   "metadata": {},
   "outputs": [],
   "source": [
    "def tokenize_words_sentences(list_sentences):\n",
    "    tokens_all = []\n",
    "    for sent in list_sentences:\n",
    "        tokens_all.append(word_tokenize(sent))\n",
    "    return(tokens_all)"
   ]
  },
  {
   "cell_type": "code",
   "execution_count": 63,
   "metadata": {},
   "outputs": [],
   "source": [
    "tokens_all = tokenize_words_sentences(list_sentences)"
   ]
  },
  {
   "cell_type": "code",
   "execution_count": 64,
   "metadata": {},
   "outputs": [
    {
     "data": {
      "text/plain": [
       "[['This', 'is', 'sentence', 'number', ':', 'one'],\n",
       " ['This', 'is', 'sentences', 'number', '2', '.']]"
      ]
     },
     "execution_count": 64,
     "metadata": {},
     "output_type": "execute_result"
    }
   ],
   "source": [
    "tokens_all"
   ]
  },
  {
   "cell_type": "code",
   "execution_count": 66,
   "metadata": {},
   "outputs": [
    {
     "name": "stdout",
     "output_type": "stream",
     "text": [
      "This\n",
      "is\n",
      "sentence\n",
      "number\n",
      ":\n",
      "one\n",
      "This\n",
      "is\n",
      "sentences\n",
      "number\n",
      "2\n",
      ".\n"
     ]
    }
   ],
   "source": [
    "for sent in tokens_all:\n",
    "    temp_list = []\n",
    "    temp_list.append(w for w in sent)"
   ]
  },
  {
   "cell_type": "code",
   "execution_count": 68,
   "metadata": {},
   "outputs": [
    {
     "ename": "NameError",
     "evalue": "name 'sentences_all' is not defined",
     "output_type": "error",
     "traceback": [
      "\u001b[0;31m---------------------------------------------------------------------------\u001b[0m",
      "\u001b[0;31mNameError\u001b[0m                                 Traceback (most recent call last)",
      "\u001b[0;32m<ipython-input-68-920122235852>\u001b[0m in \u001b[0;36m<module>\u001b[0;34m\u001b[0m\n\u001b[1;32m      2\u001b[0m \u001b[0;32mfor\u001b[0m \u001b[0mi\u001b[0m \u001b[0;32min\u001b[0m \u001b[0mrange\u001b[0m\u001b[0;34m(\u001b[0m\u001b[0mlen\u001b[0m\u001b[0;34m(\u001b[0m\u001b[0mtokens_all\u001b[0m\u001b[0;34m)\u001b[0m\u001b[0;34m)\u001b[0m\u001b[0;34m:\u001b[0m\u001b[0;34m\u001b[0m\u001b[0;34m\u001b[0m\u001b[0m\n\u001b[1;32m      3\u001b[0m     \u001b[0mtemp\u001b[0m \u001b[0;34m=\u001b[0m \u001b[0;34m[\u001b[0m\u001b[0;34m]\u001b[0m\u001b[0;34m\u001b[0m\u001b[0;34m\u001b[0m\u001b[0m\n\u001b[0;32m----> 4\u001b[0;31m     \u001b[0mtemp\u001b[0m\u001b[0;34m.\u001b[0m\u001b[0mappend\u001b[0m\u001b[0;34m(\u001b[0m\u001b[0msent_tokenize\u001b[0m\u001b[0;34m(\u001b[0m\u001b[0msentences_all\u001b[0m\u001b[0;34m[\u001b[0m\u001b[0mi\u001b[0m\u001b[0;34m]\u001b[0m\u001b[0;34m)\u001b[0m\u001b[0;34m)\u001b[0m\u001b[0;34m\u001b[0m\u001b[0;34m\u001b[0m\u001b[0m\n\u001b[0m",
      "\u001b[0;31mNameError\u001b[0m: name 'sentences_all' is not defined"
     ]
    }
   ],
   "source": [
    "data = []\n",
    "for i in range(len(tokens_all)):\n",
    "    temp = []\n",
    "    temp.append(sent_tokenize(sentences_all[i]))"
   ]
  },
  {
   "cell_type": "code",
   "execution_count": 71,
   "metadata": {},
   "outputs": [],
   "source": [
    "for i in range(len(tokens_all)):\n",
    "    temp_list = []\n",
    "    for word in tokens_all[i]:\n",
    "        temp_list.append(ps.stem(word))"
   ]
  },
  {
   "cell_type": "code",
   "execution_count": 77,
   "metadata": {},
   "outputs": [],
   "source": [
    "def apply_steeming(list_sentences):\n",
    "    temp_data = []\n",
    "    for sent in list_sentences:\n",
    "        temp_data.append(ps.stem(sent))\n",
    "    return(temp_data)"
   ]
  },
  {
   "cell_type": "code",
   "execution_count": 83,
   "metadata": {},
   "outputs": [],
   "source": [
    "for w in list_sentences:\n",
    "    temp_data = [] \n",
    "    temp_data.append(word_tokenize(w))\n",
    "    "
   ]
  },
  {
   "cell_type": "code",
   "execution_count": 84,
   "metadata": {},
   "outputs": [
    {
     "data": {
      "text/plain": [
       "[['This', 'is', 'sentences', 'number', '2', '.']]"
      ]
     },
     "execution_count": 84,
     "metadata": {},
     "output_type": "execute_result"
    }
   ],
   "source": [
    "temp_data"
   ]
  },
  {
   "cell_type": "code",
   "execution_count": 2,
   "metadata": {},
   "outputs": [],
   "source": [
    "import unicodedata"
   ]
  },
  {
   "cell_type": "code",
   "execution_count": 6,
   "metadata": {},
   "outputs": [],
   "source": [
    "def remove_accents(text):\n",
    "\n",
    "    try:\n",
    "        text = unicode(text, 'utf-8')\n",
    "    except NameError: # unicode is a default on python 3 \n",
    "        pass\n",
    "\n",
    "    text = unicodedata.normalize('NFD', text)\\\n",
    "           .encode('ascii', 'ignore')\\\n",
    "           .decode(\"utf-8\")\n",
    "\n",
    "    return str(text)"
   ]
  },
  {
   "cell_type": "code",
   "execution_count": 7,
   "metadata": {},
   "outputs": [],
   "source": [
    "\n",
    "def to_ascii_unicode(text, lang=\"en\"):\n",
    "    \"\"\"\n",
    "    Try to represent unicode data in ascii characters similar to what a human\n",
    "    with a US keyboard would choose.\n",
    "    Works great for languages of Western origin, worse the farther the language\n",
    "    gets from Latin-based alphabets. It's based on hand-tuned character mappings\n",
    "    that also contain ascii approximations for symbols and non-Latin alphabets.\n",
    "    \"\"\"\n",
    "    # normalize quotes before since this improves transliteration quality\n",
    "    text = fix_strange_quotes(text)\n",
    "\n",
    "    # special handling for German text to preserve umlauts\n",
    "    if lang == \"de\":\n",
    "        text = save_replace(text, lang=lang)\n",
    "\n",
    "    text = unidecode(text)\n",
    "\n",
    "    # important to remove utility characters\n",
    "    if lang == \"de\":\n",
    "        text = save_replace(text, lang=lang, back=True)\n",
    "    return text"
   ]
  },
  {
   "cell_type": "code",
   "execution_count": 15,
   "metadata": {},
   "outputs": [],
   "source": [
    "def remove_hashtag(text):\n",
    "    '''Removes hashtag in front of a word'''\n",
    "    text = re.sub(r'#([^\\s]+)', r'\\1', text)\n",
    "    return(text)"
   ]
  },
  {
   "cell_type": "code",
   "execution_count": 21,
   "metadata": {},
   "outputs": [],
   "source": [
    "def remove_numbers(text):\n",
    "    '''REmoves integers'''\n",
    "    text = ''.join([i for i in text if not i.isdigit()])\n",
    "    return(text)"
   ]
  },
  {
   "cell_type": "code",
   "execution_count": 36,
   "metadata": {},
   "outputs": [],
   "source": [
    "def text_lowercase(text):\n",
    "    '''To lowercase'''\n",
    "    text = text.lower()\n",
    "    return(text)"
   ]
  },
  {
   "cell_type": "code",
   "execution_count": 38,
   "metadata": {},
   "outputs": [],
   "source": [
    "import re"
   ]
  },
  {
   "cell_type": "code",
   "execution_count": 43,
   "metadata": {},
   "outputs": [],
   "source": [
    "def strip_whitespace(text):\n",
    "    text = \" \".join(text.split())\n",
    "    return(text)"
   ]
  },
  {
   "cell_type": "code",
   "execution_count": 40,
   "metadata": {},
   "outputs": [],
   "source": [
    "text = 'Hola me llamo         Camila'"
   ]
  },
  {
   "cell_type": "code",
   "execution_count": 42,
   "metadata": {},
   "outputs": [
    {
     "data": {
      "text/plain": [
       "'Hola me llamo Camila'"
      ]
     },
     "execution_count": 42,
     "metadata": {},
     "output_type": "execute_result"
    }
   ],
   "source": [
    "\" \".join(text.split())"
   ]
  },
  {
   "cell_type": "code",
   "execution_count": 47,
   "metadata": {},
   "outputs": [
    {
     "data": {
      "text/plain": [
       "'Hola me llamo Camila'"
      ]
     },
     "execution_count": 47,
     "metadata": {},
     "output_type": "execute_result"
    }
   ],
   "source": [
    "strip_whitespace(text)"
   ]
  },
  {
   "cell_type": "code",
   "execution_count": 51,
   "metadata": {},
   "outputs": [],
   "source": [
    "from nltk.corpus import stopwords"
   ]
  },
  {
   "cell_type": "code",
   "execution_count": 56,
   "metadata": {},
   "outputs": [],
   "source": [
    "def remove_sp(text):\n",
    "    sp = set(stopwords.words('spanish'))\n",
    "    text = [i for i in text if i not in sp]\n",
    "    return(text)"
   ]
  },
  {
   "cell_type": "code",
   "execution_count": 57,
   "metadata": {},
   "outputs": [
    {
     "data": {
      "text/plain": [
       "['H',\n",
       " 'l',\n",
       " ' ',\n",
       " 'm',\n",
       " ' ',\n",
       " 'l',\n",
       " 'l',\n",
       " 'm',\n",
       " ' ',\n",
       " ' ',\n",
       " ' ',\n",
       " ' ',\n",
       " ' ',\n",
       " ' ',\n",
       " ' ',\n",
       " ' ',\n",
       " ' ',\n",
       " 'C',\n",
       " 'm',\n",
       " 'i',\n",
       " 'l']"
      ]
     },
     "execution_count": 57,
     "metadata": {},
     "output_type": "execute_result"
    }
   ],
   "source": [
    "remove_sp(text)"
   ]
  },
  {
   "cell_type": "code",
   "execution_count": 58,
   "metadata": {},
   "outputs": [],
   "source": [
    "from nltk import word_tokenize"
   ]
  },
  {
   "cell_type": "code",
   "execution_count": 62,
   "metadata": {},
   "outputs": [],
   "source": [
    "def remove_sp(text):\n",
    "    sp = set(stopwords.words('spanish'))\n",
    "    words_tokens = word_tokenize(text)\n",
    "    text = [i for i in words_tokens if i not in sp]\n",
    "    text = ' '.join(text)\n",
    "    return(text)"
   ]
  },
  {
   "cell_type": "code",
   "execution_count": 82,
   "metadata": {},
   "outputs": [],
   "source": [
    "def remove_sp(text, lan):\n",
    "    if lan == 'spanish':\n",
    "        sp = set(stopwords.words('spanish'))\n",
    "        words_tokens = word_tokenize(text)\n",
    "        text = [i for i in words_tokens if i not in sp]\n",
    "        text = ' '.join(text)\n",
    "\n",
    "    elif lan == 'english':\n",
    "        sp_en = set(stopwords.words('english'))\n",
    "        words_tokens = word_tokenize(text)\n",
    "        text = [i for i in words_tokens if i not in sp_en]\n",
    "        text = ' '.join(text)\n",
    "\n",
    "    else:\n",
    "        text = 'stopwords only available in english or spanish'\n",
    "    return(text)"
   ]
  },
  {
   "cell_type": "code",
   "execution_count": 94,
   "metadata": {},
   "outputs": [],
   "source": [
    "from nltk.stem import SnowballStemmer\n",
    "stemmer = SnowballStemmer('spanish')"
   ]
  },
  {
   "cell_type": "code",
   "execution_count": 95,
   "metadata": {},
   "outputs": [],
   "source": [
    "stemmed_text = [stemmer.stem(i) for i in text]"
   ]
  },
  {
   "cell_type": "code",
   "execution_count": 97,
   "metadata": {},
   "outputs": [],
   "source": [
    "def apply_stemming(text, lan):\n",
    "    if lan == 'spanish':\n",
    "        stemmer = SnowballStemmer('spanish')\n",
    "        words_tokens = word_tokenize(text)\n",
    "        text = [stemmer.stem(i) for i in words_tokens]\n",
    "        text = ' '.join(text)\n",
    "\n",
    "    elif lan == 'english':\n",
    "        stemmer_en = SnowballStemmer('english')\n",
    "        words_tokens = word_tokenize(text)\n",
    "        text = [stemmer_en.stem(i) for i in words_tokens]\n",
    "        text = ' '.join(text)\n",
    "\n",
    "    else:\n",
    "        text = 'Stemmer only available in english or spanish'\n",
    "    return(text)"
   ]
  },
  {
   "cell_type": "code",
   "execution_count": 87,
   "metadata": {},
   "outputs": [
    {
     "ename": "ValueError",
     "evalue": "Mode must be one of PorterStemmer.NLTK_EXTENSIONS, PorterStemmer.MARTIN_EXTENSIONS, or PorterStemmer.ORIGINAL_ALGORITHM",
     "output_type": "error",
     "traceback": [
      "\u001b[0;31m---------------------------------------------------------------------------\u001b[0m",
      "\u001b[0;31mValueError\u001b[0m                                Traceback (most recent call last)",
      "\u001b[0;32m<ipython-input-87-5e731f8802de>\u001b[0m in \u001b[0;36m<module>\u001b[0;34m\u001b[0m\n\u001b[0;32m----> 1\u001b[0;31m \u001b[0mstemmer\u001b[0m \u001b[0;34m=\u001b[0m \u001b[0mPorterStemmer\u001b[0m\u001b[0;34m(\u001b[0m\u001b[0;34m'spanish'\u001b[0m\u001b[0;34m)\u001b[0m\u001b[0;34m\u001b[0m\u001b[0;34m\u001b[0m\u001b[0m\n\u001b[0m",
      "\u001b[0;32m/Library/Frameworks/Python.framework/Versions/3.7/lib/python3.7/site-packages/nltk/stem/porter.py\u001b[0m in \u001b[0;36m__init__\u001b[0;34m(self, mode)\u001b[0m\n\u001b[1;32m     91\u001b[0m         ):\n\u001b[1;32m     92\u001b[0m             raise ValueError(\n\u001b[0;32m---> 93\u001b[0;31m                 \u001b[0;34m\"Mode must be one of PorterStemmer.NLTK_EXTENSIONS, \"\u001b[0m\u001b[0;34m\u001b[0m\u001b[0;34m\u001b[0m\u001b[0m\n\u001b[0m\u001b[1;32m     94\u001b[0m                 \u001b[0;34m\"PorterStemmer.MARTIN_EXTENSIONS, or \"\u001b[0m\u001b[0;34m\u001b[0m\u001b[0;34m\u001b[0m\u001b[0m\n\u001b[1;32m     95\u001b[0m                 \u001b[0;34m\"PorterStemmer.ORIGINAL_ALGORITHM\"\u001b[0m\u001b[0;34m\u001b[0m\u001b[0;34m\u001b[0m\u001b[0m\n",
      "\u001b[0;31mValueError\u001b[0m: Mode must be one of PorterStemmer.NLTK_EXTENSIONS, PorterStemmer.MARTIN_EXTENSIONS, or PorterStemmer.ORIGINAL_ALGORITHM"
     ]
    }
   ],
   "source": [
    "stemmer = PorterStemmer('spanish')"
   ]
  },
  {
   "cell_type": "code",
   "execution_count": 102,
   "metadata": {},
   "outputs": [
    {
     "data": {
      "text/plain": [
       "'stopwords only available in english or spanish'"
      ]
     },
     "execution_count": 102,
     "metadata": {},
     "output_type": "execute_result"
    }
   ],
   "source": [
    "apply_stemming(text, 'russian')"
   ]
  },
  {
   "cell_type": "code",
   "execution_count": null,
   "metadata": {},
   "outputs": [],
   "source": []
  },
  {
   "cell_type": "code",
   "execution_count": null,
   "metadata": {},
   "outputs": [],
   "source": []
  },
  {
   "cell_type": "code",
   "execution_count": 108,
   "metadata": {},
   "outputs": [],
   "source": [
    "import re\n",
    "import nltk\n",
    "from nltk.corpus import stopwords\n",
    "from nltk.stem import SnowballStemmer\n",
    "from nltk import word_tokenize\n",
    "import unicodedata\n",
    "\n",
    "\n",
    "\n",
    "def remove_accents(text):\n",
    "\n",
    "    try:\n",
    "        text = unicode(text, 'utf-8')\n",
    "    except NameError: # unicode is a default on python 3 \n",
    "        pass\n",
    "\n",
    "    text = unicodedata.normalize('NFD', text)\\\n",
    "           .encode('ascii', 'ignore')\\\n",
    "           .decode(\"utf-8\")\n",
    "\n",
    "    return str(text)\n",
    "\n",
    "\n",
    "def remove_numbers(text):\n",
    "    '''REmoves integers'''\n",
    "    text = ''.join([i for i in text if not i.isdigit()])\n",
    "    return(text)\n",
    "\n",
    "\n",
    "def remove_punctuation(text):\n",
    "    punctuation = {'!', '\"','#', '$','%','&',\"'\",'(',')','*','+',',','-','.','/',':',';','<','=','>','?','@','[','\\\\',']','^','_','`','{','|','}','~'}    \n",
    "    text = ''.join(i for i in text if i not in punctuation)\n",
    "    return(text)\n",
    "\n",
    "def text_lowercase(text):\n",
    "    '''To lowercase'''\n",
    "    text = text.lower()\n",
    "    return(text)\n",
    "\n",
    "def strip_whitespace(text):\n",
    "    text = \" \".join(text.split())\n",
    "    return(text)\n",
    "\n",
    "def remove_sp(text):\n",
    "    sp = set(stopwords.words('spanish'))\n",
    "    text = [i for i in text if i not in sp]\n",
    "\n",
    "def remove_sp(text, lan):\n",
    "    if lan == 'spanish':\n",
    "        sp = set(stopwords.words('spanish'))\n",
    "        words_tokens = word_tokenize(text)\n",
    "        text = [i for i in words_tokens if i not in sp]\n",
    "        text = ' '.join(text)\n",
    "\n",
    "    elif lan == 'english':\n",
    "        sp_en = set(stopwords.words('english'))\n",
    "        words_tokens = word_tokenize(text)\n",
    "        text = [i for i in words_tokens if i not in sp_en]\n",
    "        text = ' '.join(text)\n",
    "\n",
    "    else:\n",
    "        text = 'stopwords only available in english or spanish'\n",
    "    return(text)\n",
    "\n",
    "\n",
    "def apply_stemming(text, lan):\n",
    "    if lan == 'spanish':\n",
    "        stemmer = SnowballStemmer('spanish')\n",
    "        words_tokens = word_tokenize(text)\n",
    "        text = [stemmer.stem(i) for i in words_tokens]\n",
    "        text = ' '.join(text)\n",
    "\n",
    "    elif lan == 'english':\n",
    "        stemmer_en = SnowballStemmer('english')\n",
    "        words_tokens = word_tokenize(text)\n",
    "        text = [stemmer_en.stem(i) for i in words_tokens]\n",
    "        text = ' '.join(text)\n",
    "\n",
    "    else:\n",
    "        text = 'Stemmer only available in english or spanish'\n",
    "    return(text)\n"
   ]
  },
  {
   "cell_type": "code",
   "execution_count": 128,
   "metadata": {},
   "outputs": [],
   "source": [
    "def clean(text,  \n",
    "          accents = True, \n",
    "          punctuation=False, \n",
    "          numbers=False, \n",
    "          lowercase=False, \n",
    "          whitespace=False, \n",
    "          lan = 'spanish',\n",
    "          stopwords = False, \n",
    "          stemming = False):\n",
    "\n",
    "    if accents == True:\n",
    "        text = remove_accents(text)\n",
    "\n",
    "    if punctuation:\n",
    "        text = remove_punctuation(text)\n",
    "\n",
    "    if numbers:\n",
    "        text = remove_numbers(text)\n",
    "\n",
    "    if lowercase:\n",
    "        text = text_lowercase(text)\n",
    "\n",
    "    if whitespace:\n",
    "        text = strip_whitespace(text)\n",
    "\n",
    "    if stopwords:\n",
    "        text = remove_sp(text)\n",
    "\n",
    "    if stemming:\n",
    "        text = apply_stemming(text)\n",
    "\n",
    "    return(text)"
   ]
  },
  {
   "cell_type": "code",
   "execution_count": 110,
   "metadata": {},
   "outputs": [],
   "source": [
    "text = 'Hola me llamo Camila, esta es una prueba a ver que tal funcionA    ...... mi código!!!!'"
   ]
  },
  {
   "cell_type": "code",
   "execution_count": 130,
   "metadata": {},
   "outputs": [
    {
     "data": {
      "text/plain": [
       "'Hola me llamo Camila, esta es una prueba a ver que tal funcionA    ...... mi codigo!!!!'"
      ]
     },
     "execution_count": 130,
     "metadata": {},
     "output_type": "execute_result"
    }
   ],
   "source": [
    "clean(text, accents = True)"
   ]
  },
  {
   "cell_type": "code",
   "execution_count": 112,
   "metadata": {},
   "outputs": [],
   "source": [
    "def remove_accents(text):\n",
    "\n",
    "    try:\n",
    "        text = unicode(text, 'utf-8')\n",
    "    except NameError: # unicode is a default on python 3 \n",
    "        pass\n",
    "\n",
    "    text = unicodedata.normalize('NFD', text)\\\n",
    "           .encode('ascii', 'ignore')\\\n",
    "           .decode(\"utf-8\")\n",
    "\n",
    "    return str(text)"
   ]
  },
  {
   "cell_type": "code",
   "execution_count": 113,
   "metadata": {},
   "outputs": [
    {
     "data": {
      "text/plain": [
       "'Hola me llamo Camila, esta es una prueba a ver que tal funcionA    ...... mi codigo!!!!'"
      ]
     },
     "execution_count": 113,
     "metadata": {},
     "output_type": "execute_result"
    }
   ],
   "source": [
    "remove_accents(text)"
   ]
  }
 ],
 "metadata": {
  "kernelspec": {
   "display_name": "Python 3",
   "language": "python",
   "name": "python3"
  },
  "language_info": {
   "codemirror_mode": {
    "name": "ipython",
    "version": 3
   },
   "file_extension": ".py",
   "mimetype": "text/x-python",
   "name": "python",
   "nbconvert_exporter": "python",
   "pygments_lexer": "ipython3",
   "version": "3.7.4"
  }
 },
 "nbformat": 4,
 "nbformat_minor": 2
}
